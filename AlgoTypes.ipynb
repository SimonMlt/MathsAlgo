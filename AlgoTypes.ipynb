{
 "cells": [
  {
   "cell_type": "markdown",
   "metadata": {},
   "source": [
    "# Target Somme (en double for)"
   ]
  },
  {
   "cell_type": "code",
   "execution_count": 6,
   "metadata": {},
   "outputs": [
    {
     "data": {
      "text/plain": [
       "'false'"
      ]
     },
     "execution_count": 6,
     "metadata": {},
     "output_type": "execute_result"
    }
   ],
   "source": [
    "tab = [2, 5, 9, -3, -7, 16]\n",
    "\n",
    "def targetSum(tab, targetSom) :\n",
    "    for i in tab :\n",
    "        for j in tab :\n",
    "            if i + j == targetSom and i != j :\n",
    "                ## Savoir quoi rajouter dans la condition\n",
    "            else :\n",
    "                ## Savoir quoi rajouter dans la condition\n",
    "                \n",
    "targetSum(tab, 10)"
   ]
  },
  {
   "cell_type": "markdown",
   "metadata": {},
   "source": [
    "# Target Somme (avec dictionnaire)"
   ]
  },
  {
   "cell_type": "code",
   "execution_count": 9,
   "metadata": {},
   "outputs": [
    {
     "data": {
      "text/plain": [
       "[-1, 11]"
      ]
     },
     "execution_count": 9,
     "metadata": {},
     "output_type": "execute_result"
    }
   ],
   "source": [
    "def targetSum(liste, target) :\n",
    "    dic = {}\n",
    "    for item in liste :\n",
    "        dic[target - item] = item\n",
    "        if(item in dic and dic[item] != item) :\n",
    "            return [item, dic[item]]\n",
    "    return []\n",
    "targetSum([3, 5, -4, 8, 11, 1, -1, 6], 10)"
   ]
  },
  {
   "cell_type": "markdown",
   "metadata": {},
   "source": [
    "# Target Somme (correction)"
   ]
  },
  {
   "cell_type": "code",
   "execution_count": 11,
   "metadata": {},
   "outputs": [
    {
     "data": {
      "text/plain": [
       "[11, -1]"
      ]
     },
     "execution_count": 11,
     "metadata": {},
     "output_type": "execute_result"
    }
   ],
   "source": [
    "def target_somme(array, targetSum):\n",
    "    #sol2 -> O(n) time | O(1) space \n",
    "    nums={}\n",
    "    for num in array:\n",
    "        tmp = targetSum - num \n",
    "        if tmp in nums:\n",
    "            return [tmp,num]\n",
    "        else: \n",
    "            nums[num] = True\n",
    "    return []\n",
    "target_somme([3, 5, -4, 8, 11, 1, -1, 6], 10)"
   ]
  },
  {
   "cell_type": "markdown",
   "metadata": {},
   "source": [
    "# Distance de Levenshtein"
   ]
  },
  {
   "cell_type": "code",
   "execution_count": 54,
   "metadata": {},
   "outputs": [
    {
     "name": "stdout",
     "output_type": "stream",
     "text": [
      "[0, 1, 2, 3, 4, 5, 6]\n",
      "[1, 0, 1, 2, 3, 4, 5]\n",
      "[2, 1, 1, 2, 3, 4, 5]\n",
      "[3, 2, 2, 1, 2, 3, 4]\n",
      "[4, 3, 3, 2, 1, 2, 3]\n",
      "[5, 4, 4, 3, 2, 1, 2]\n",
      "2\n"
     ]
    }
   ],
   "source": [
    "def levenshtein(str1, str2) :\n",
    "    row = len(str1)+1\n",
    "    col = len(str2)+1\n",
    "    matrice = [ [ 0 for x in range(col) ] for x in range(row) ]\n",
    "    \n",
    "    for i in range(1, row) :\n",
    "        matrice[i][0] = i\n",
    "        \n",
    "    for i in range(1, col) :\n",
    "        matrice[0][i] = i\n",
    "        \n",
    "    for cols in range(1, col) :\n",
    "        for rows in range(1, row) :\n",
    "            if str1[rows-1] == str2[cols-1] :\n",
    "                cost = 0\n",
    "            else :\n",
    "                cost = 1\n",
    "            matrice[rows][cols] = min(matrice[rows-1][cols] + 1,\n",
    "                                  matrice[rows][cols-1] + 1,\n",
    "                                  matrice[rows-1][cols-1] + cost)\n",
    "    for r in range(row) :\n",
    "        print(matrice[r])\n",
    "    \n",
    "    return matrice[rows][cols]\n",
    "    \n",
    "print(levenshtein('gumbo', 'gambol'))"
   ]
  },
  {
   "cell_type": "markdown",
   "metadata": {},
   "source": [
    "# Distance de Levenshtein (correction)"
   ]
  },
  {
   "cell_type": "code",
   "execution_count": null,
   "metadata": {},
   "outputs": [],
   "source": []
  }
 ],
 "metadata": {
  "kernelspec": {
   "display_name": "Python 3",
   "language": "python",
   "name": "python3"
  },
  "language_info": {
   "codemirror_mode": {
    "name": "ipython",
    "version": 3
   },
   "file_extension": ".py",
   "mimetype": "text/x-python",
   "name": "python",
   "nbconvert_exporter": "python",
   "pygments_lexer": "ipython3",
   "version": "3.8.5"
  }
 },
 "nbformat": 4,
 "nbformat_minor": 4
}
