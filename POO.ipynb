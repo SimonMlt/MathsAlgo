{
 "cells": [
  {
   "cell_type": "markdown",
   "metadata": {},
   "source": [
    "# Compte bancaire"
   ]
  },
  {
   "cell_type": "code",
   "execution_count": 1,
   "metadata": {},
   "outputs": [],
   "source": [
    "class CompteBancaire :\n",
    "    \n",
    "    def __init__(self, nom=\"Dupont\", solde=1000) :\n",
    "        self.nom = nom\n",
    "        self.solde = solde\n",
    "    \n",
    "    def depot(self, value) :\n",
    "        self.solde = self.solde + value\n",
    "    \n",
    "    def retrait(self, value) :\n",
    "        self.solde = self.solde - value\n",
    "        \n",
    "    def affiche(self) :\n",
    "        print(\"Le compte bancaire de \", self.nom , \" est de \" , self.solde , \" €\")\n",
    "    "
   ]
  },
  {
   "cell_type": "code",
   "execution_count": 2,
   "metadata": {},
   "outputs": [],
   "source": [
    "compte1 = CompteBancaire(\"Duchmol\", 800)"
   ]
  },
  {
   "cell_type": "code",
   "execution_count": 3,
   "metadata": {},
   "outputs": [],
   "source": [
    "compte1.depot(350)"
   ]
  },
  {
   "cell_type": "code",
   "execution_count": 4,
   "metadata": {},
   "outputs": [],
   "source": [
    "compte1.retrait(200)"
   ]
  },
  {
   "cell_type": "code",
   "execution_count": 5,
   "metadata": {},
   "outputs": [
    {
     "name": "stdout",
     "output_type": "stream",
     "text": [
      "Le compte bancaire de  Duchmol  est de  950  €\n"
     ]
    }
   ],
   "source": [
    "compte1.affiche()"
   ]
  },
  {
   "cell_type": "code",
   "execution_count": 6,
   "metadata": {},
   "outputs": [],
   "source": [
    "compte2 = CompteBancaire()"
   ]
  },
  {
   "cell_type": "code",
   "execution_count": 7,
   "metadata": {},
   "outputs": [],
   "source": [
    "compte2.depot(25)"
   ]
  },
  {
   "cell_type": "code",
   "execution_count": 8,
   "metadata": {},
   "outputs": [
    {
     "name": "stdout",
     "output_type": "stream",
     "text": [
      "Le compte bancaire de  Dupont  est de  1025  €\n"
     ]
    }
   ],
   "source": [
    "compte2.affiche()"
   ]
  },
  {
   "cell_type": "markdown",
   "metadata": {},
   "source": [
    "# La surcharge d'opérateur"
   ]
  },
  {
   "cell_type": "code",
   "execution_count": 174,
   "metadata": {},
   "outputs": [],
   "source": [
    "class Point :\n",
    "    def __init__(self, x, y, *args) :\n",
    "        self.x = x\n",
    "        self.y = y\n",
    "        for arguments in args :\n",
    "            self.z = arguments\n",
    "            # print(self.z)\n",
    "    \n",
    "    def ToString(self) :\n",
    "        x = self.x\n",
    "        y = self.y\n",
    "        if 'z' in dir(self):\n",
    "            print('P(',\"{:.2f}\".format(self.x), ',', \"{:.2f}\".format(self.y), ',' , \"{:.2f}\".format(self.z), ')')\n",
    "        else :\n",
    "            print('P(',\"{:.2f}\".format(self.x), ',', \"{:.2f}\".format(self.y),')')"
   ]
  },
  {
   "cell_type": "code",
   "execution_count": 175,
   "metadata": {},
   "outputs": [],
   "source": [
    "P1=Point(2,3,5)"
   ]
  },
  {
   "cell_type": "code",
   "execution_count": 176,
   "metadata": {},
   "outputs": [
    {
     "name": "stdout",
     "output_type": "stream",
     "text": [
      "P( 2.00 , 3.00 , 5.00 )\n"
     ]
    }
   ],
   "source": [
    "P1.ToString()"
   ]
  },
  {
   "cell_type": "markdown",
   "metadata": {},
   "source": [
    "# L'héritage simple"
   ]
  },
  {
   "cell_type": "code",
   "execution_count": 290,
   "metadata": {
    "scrolled": true
   },
   "outputs": [
    {
     "name": "stdout",
     "output_type": "stream",
     "text": [
      "Nom : Ilyass\n",
      "Prénom : Math\n",
      "Date de naissance : 01/07/1982\n",
      "Nom : Ilyass\n",
      "Prénom : Math\n",
      "Date de naissance : 01/07/1985\n",
      "Salaire : 7865.548 €\n",
      "Nom : Ilyass\n",
      "Prénom : Math\n",
      "Date de naissance : 01/07/1988\n",
      "Salaire : 7865.548 €\n",
      "Service : Ressource humaine\n"
     ]
    }
   ],
   "source": [
    "import datetime\n",
    "\n",
    "class DateNaissance :\n",
    "    def __init__(self, jour, mois, annee) :\n",
    "        self.jour = jour\n",
    "        self.mois = mois\n",
    "        self.annee = annee\n",
    "    \n",
    "    def ToString(self) :\n",
    "        date = datetime.datetime(self.annee, self.mois, self.jour)\n",
    "        self.dateNaissance = date.strftime(\"%d/%m/%Y\")\n",
    "        return self.dateNaissance\n",
    "        \n",
    "class Personne :\n",
    "    def __init__(self, nom, prenom, dateNaissance : DateNaissance) :\n",
    "        self.nom = nom\n",
    "        self.prenom = prenom\n",
    "        self.dateNaissance = dateNaissance\n",
    "    \n",
    "    def Afficher(self) :\n",
    "        print(\"Nom :\", self.nom)\n",
    "        print(\"Prénom :\", self.prenom)\n",
    "        print(\"Date de naissance :\", self.dateNaissance.ToString())\n",
    "        \n",
    "class Employe(Personne) :\n",
    "    def __init__(self, nom, prenom, dateNaissance: DateNaissance, salaire) :\n",
    "        super().__init__(nom, prenom, dateNaissance)\n",
    "        self.salaire = salaire\n",
    "    \n",
    "    def Afficher(self) :\n",
    "        super().Afficher()\n",
    "        print(\"Salaire :\", self.salaire,\"€\")\n",
    "    \n",
    "class Chef(Employe) :\n",
    "    def __init__(self, nom, prenom, dateNaissance: DateNaissance, salaire, service) :\n",
    "        super().__init__(nom, prenom, dateNaissance, salaire)\n",
    "        self.service = service\n",
    "    \n",
    "    def Afficher(self) :\n",
    "        super().Afficher()\n",
    "        print(\"Service :\" , self.service)\n",
    "\n",
    "P = Personne(\"Ilyass\", \"Math\", DateNaissance(1,7,1982))\n",
    "P.Afficher()\n",
    "\n",
    "E = Employe(\"Ilyass\", \"Math\", DateNaissance(1,7,1985),7865.548)\n",
    "E.Afficher()\n",
    "\n",
    "Ch = Chef(\"Ilyass\", \"Math\", DateNaissance(1,7,1988), 7865.548, \"Ressource humaine\")\n",
    "Ch.Afficher()"
   ]
  },
  {
   "cell_type": "markdown",
   "metadata": {},
   "source": [
    "# Le polymorphisme"
   ]
  },
  {
   "cell_type": "code",
   "execution_count": null,
   "metadata": {},
   "outputs": [],
   "source": []
  }
 ],
 "metadata": {
  "kernelspec": {
   "display_name": "Python 3",
   "language": "python",
   "name": "python3"
  },
  "language_info": {
   "codemirror_mode": {
    "name": "ipython",
    "version": 3
   },
   "file_extension": ".py",
   "mimetype": "text/x-python",
   "name": "python",
   "nbconvert_exporter": "python",
   "pygments_lexer": "ipython3",
   "version": "3.8.5"
  }
 },
 "nbformat": 4,
 "nbformat_minor": 4
}
